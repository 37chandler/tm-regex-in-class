{
 "cells": [
  {
   "cell_type": "markdown",
   "metadata": {},
   "source": [
    "## Convention Database\n",
    "\n",
    "In this notebook we store our convention data in a database. See the README for details."
   ]
  },
  {
   "cell_type": "code",
   "execution_count": null,
   "metadata": {},
   "outputs": [],
   "source": [
    "import re\n",
    "import sqlite3\n",
    "import os\n",
    "from collections import defaultdict"
   ]
  },
  {
   "cell_type": "code",
   "execution_count": null,
   "metadata": {},
   "outputs": [],
   "source": [
    "small_transcript_file = \"www_rev_com_blog_transcripts2020-democratic-national-convention-dnc-night-4-transcript_small.txt\"\n",
    "full_transcript_file = small_transcript_file.replace(\"_small.txt\",\".txt\")"
   ]
  },
  {
   "cell_type": "markdown",
   "metadata": {},
   "source": [
    "Our goal in this exercise is to parse the transcript, splitting the data on speakers and capturing the speaker and the time. I'll get you started with a couple of options that don't work. I'd urge you to use your [favorite regex tester](https://regex101.com/) to build this regex."
   ]
  },
  {
   "cell_type": "code",
   "execution_count": null,
   "metadata": {},
   "outputs": [],
   "source": [
    "time_pattern = re.compile(r\"\\( ((\\d{2}:)?\\d{2}:\\d{2}) \\)\")"
   ]
  },
  {
   "cell_type": "code",
   "execution_count": null,
   "metadata": {},
   "outputs": [],
   "source": [
    "transcript = open(small_transcript_file,encoding=\"utf-8\").read()\n",
    "\n",
    "# We added a bunch of carriage returns in this text. Let's replace with \" \"\n",
    "transcript = transcript.replace(\"\\n\",\" \")"
   ]
  },
  {
   "cell_type": "code",
   "execution_count": null,
   "metadata": {},
   "outputs": [],
   "source": [
    "times = time_pattern.findall(transcript)\n",
    "\n",
    "processed_transcript = time_pattern.split(transcript,maxsplit=0)"
   ]
  },
  {
   "cell_type": "markdown",
   "metadata": {},
   "source": [
    "Times comes through a bit weird, so I'm going to clean it up. Any guesses as to why this is necessary?"
   ]
  },
  {
   "cell_type": "code",
   "execution_count": null,
   "metadata": {},
   "outputs": [],
   "source": [
    "times = [t[0] for t in times]"
   ]
  },
  {
   "cell_type": "code",
   "execution_count": null,
   "metadata": {},
   "outputs": [],
   "source": [
    "clean_pt = []\n",
    "\n",
    "# Same sort of cleaning needed for the split data\n",
    "for idx, item in enumerate(processed_transcript) : \n",
    "    if idx % 3 == 0 : \n",
    "        clean_pt.append(item) \n",
    "\n",
    "clean_pt = clean_pt[1:]"
   ]
  },
  {
   "cell_type": "code",
   "execution_count": null,
   "metadata": {},
   "outputs": [],
   "source": [
    "for idx, thing in enumerate(clean_pt) : \n",
    "    print(f\"At {times[idx]} we had this:\")\n",
    "    print(thing)\n",
    "    \n",
    "    if idx > 50 :\n",
    "        break"
   ]
  },
  {
   "cell_type": "markdown",
   "metadata": {},
   "source": [
    "Now our goal is to come up with a regex that matches the *speaker* and gets them into a field, perhaps with the time."
   ]
  },
  {
   "cell_type": "code",
   "execution_count": null,
   "metadata": {},
   "outputs": [],
   "source": [
    "speaker_pattern = re.compile(r\"???\")"
   ]
  },
  {
   "cell_type": "code",
   "execution_count": null,
   "metadata": {},
   "outputs": [],
   "source": [
    "speakers = speaker_pattern.findall(transcript)\n",
    "\n",
    "processed_transcript = speaker_pattern.split(transcript,maxsplit=0)"
   ]
  }
 ],
 "metadata": {
  "kernelspec": {
   "display_name": "Python 3",
   "language": "python",
   "name": "python3"
  },
  "language_info": {
   "codemirror_mode": {
    "name": "ipython",
    "version": 3
   },
   "file_extension": ".py",
   "mimetype": "text/x-python",
   "name": "python",
   "nbconvert_exporter": "python",
   "pygments_lexer": "ipython3",
   "version": "3.7.3"
  }
 },
 "nbformat": 4,
 "nbformat_minor": 4
}
